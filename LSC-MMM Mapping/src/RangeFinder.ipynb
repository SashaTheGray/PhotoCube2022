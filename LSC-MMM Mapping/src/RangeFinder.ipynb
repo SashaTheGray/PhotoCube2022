{
 "metadata": {
  "language_info": {
   "codemirror_mode": {
    "name": "ipython",
    "version": 3
   },
   "file_extension": ".py",
   "mimetype": "text/x-python",
   "name": "python",
   "nbconvert_exporter": "python",
   "pygments_lexer": "ipython3",
   "version": "3.8.3-final"
  },
  "orig_nbformat": 2,
  "kernelspec": {
   "name": "python3",
   "display_name": "Python 3",
   "language": "python"
  }
 },
 "nbformat": 4,
 "nbformat_minor": 2,
 "cells": [
  {
   "cell_type": "code",
   "execution_count": 2,
   "metadata": {},
   "outputs": [],
   "source": [
    "import sys\n",
    "import csv\n",
    "import pandas as pd\n",
    "import seaborn as sns\n",
    "import matplotlib.pylab as plt"
   ]
  },
  {
   "cell_type": "code",
   "execution_count": 3,
   "metadata": {},
   "outputs": [
    {
     "output_type": "execute_result",
     "data": {
      "text/plain": [
       "       minute_id              utc_time        local_time       timezone  \\\n",
       "0  20150223_0000  UTC_2015-02-23_00:00  2015-02-23_00:00  Europe/Dublin   \n",
       "1  20150223_0001  UTC_2015-02-23_00:01  2015-02-23_00:01  Europe/Dublin   \n",
       "2  20150223_0002  UTC_2015-02-23_00:02  2015-02-23_00:02  Europe/Dublin   \n",
       "\n",
       "       lat      lon semantic_name  elevation  speed  heart  calories  \\\n",
       "0  53.3892 -6.15827          Home        NaN    NaN    NaN    1.2062   \n",
       "1  53.3892 -6.15827          Home        NaN    NaN    NaN    1.2062   \n",
       "2  53.3892 -6.15827          Home        NaN    NaN    NaN    1.2062   \n",
       "\n",
       "  activity_type  steps  \n",
       "0           NaN    NaN  \n",
       "1           NaN    NaN  \n",
       "2           NaN    NaN  "
      ],
      "text/html": "<div>\n<style scoped>\n    .dataframe tbody tr th:only-of-type {\n        vertical-align: middle;\n    }\n\n    .dataframe tbody tr th {\n        vertical-align: top;\n    }\n\n    .dataframe thead th {\n        text-align: right;\n    }\n</style>\n<table border=\"1\" class=\"dataframe\">\n  <thead>\n    <tr style=\"text-align: right;\">\n      <th></th>\n      <th>minute_id</th>\n      <th>utc_time</th>\n      <th>local_time</th>\n      <th>timezone</th>\n      <th>lat</th>\n      <th>lon</th>\n      <th>semantic_name</th>\n      <th>elevation</th>\n      <th>speed</th>\n      <th>heart</th>\n      <th>calories</th>\n      <th>activity_type</th>\n      <th>steps</th>\n    </tr>\n  </thead>\n  <tbody>\n    <tr>\n      <th>0</th>\n      <td>20150223_0000</td>\n      <td>UTC_2015-02-23_00:00</td>\n      <td>2015-02-23_00:00</td>\n      <td>Europe/Dublin</td>\n      <td>53.3892</td>\n      <td>-6.15827</td>\n      <td>Home</td>\n      <td>NaN</td>\n      <td>NaN</td>\n      <td>NaN</td>\n      <td>1.2062</td>\n      <td>NaN</td>\n      <td>NaN</td>\n    </tr>\n    <tr>\n      <th>1</th>\n      <td>20150223_0001</td>\n      <td>UTC_2015-02-23_00:01</td>\n      <td>2015-02-23_00:01</td>\n      <td>Europe/Dublin</td>\n      <td>53.3892</td>\n      <td>-6.15827</td>\n      <td>Home</td>\n      <td>NaN</td>\n      <td>NaN</td>\n      <td>NaN</td>\n      <td>1.2062</td>\n      <td>NaN</td>\n      <td>NaN</td>\n    </tr>\n    <tr>\n      <th>2</th>\n      <td>20150223_0002</td>\n      <td>UTC_2015-02-23_00:02</td>\n      <td>2015-02-23_00:02</td>\n      <td>Europe/Dublin</td>\n      <td>53.3892</td>\n      <td>-6.15827</td>\n      <td>Home</td>\n      <td>NaN</td>\n      <td>NaN</td>\n      <td>NaN</td>\n      <td>1.2062</td>\n      <td>NaN</td>\n      <td>NaN</td>\n    </tr>\n  </tbody>\n</table>\n</div>"
     },
     "metadata": {},
     "execution_count": 3
    }
   ],
   "source": [
    "# Get file and read into dataframe\n",
    "filename = \"C:/lsc2020/lsc2020-metadata/lsc2020-metadata.csv\"\n",
    "df = pd.read_csv(filename)\n",
    "df.head(3)\n"
   ]
  },
  {
   "cell_type": "code",
   "execution_count": 4,
   "metadata": {},
   "outputs": [
    {
     "output_type": "execute_result",
     "data": {
      "text/plain": [
       "minute_id         object\n",
       "utc_time          object\n",
       "local_time        object\n",
       "timezone          object\n",
       "lat              float64\n",
       "lon              float64\n",
       "semantic_name     object\n",
       "elevation        float64\n",
       "speed            float64\n",
       "heart            float64\n",
       "calories         float64\n",
       "activity_type     object\n",
       "steps            float64\n",
       "dtype: object"
      ]
     },
     "metadata": {},
     "execution_count": 4
    }
   ],
   "source": [
    "df.dtypes"
   ]
  },
  {
   "cell_type": "code",
   "execution_count": 5,
   "metadata": {},
   "outputs": [
    {
     "output_type": "execute_result",
     "data": {
      "text/plain": [
       "array(['Europe/Dublin', 'Europe/London', 'Europe/Brussels',\n",
       "       'Europe/Berlin', 'Europe/Prague', 'Europe/Warsaw', 'Europe/Minsk',\n",
       "       'Europe/Moscow', 'Asia/Shanghai', 'Europe/Stockholm',\n",
       "       'Europe/Oslo', 'Europe/Amsterdam', 'Europe/Istanbul'], dtype=object)"
      ]
     },
     "metadata": {},
     "execution_count": 5
    }
   ],
   "source": [
    "timezones = df['timezone'].unique()\n",
    "timezones"
   ]
  },
  {
   "cell_type": "code",
   "execution_count": 6,
   "metadata": {},
   "outputs": [
    {
     "output_type": "execute_result",
     "data": {
      "text/plain": [
       "array(['Home', nan, 'Work', 'Verbena Avenue',\n",
       "       'Dublin City University (DCU)', 'Science Gallery Café',\n",
       "       'The Helix', 'DCU School of Nursing', 'Thunder Road Café',\n",
       "       'The Westin', 'Brown Thomas', 'Costa Coffee', 'Starbucks',\n",
       "       'Dunnes Stores',\n",
       "       'Dublin Airport (DUB) - Aerfort Bhaile Átha Cliath', 'Bayside',\n",
       "       'Lidl', \"O'Brien Centre for Science\",\n",
       "       'Howth Junction Business Centre',\n",
       "       'Hilan Korean & Chinese Restaurant', 'Dublin Airport T2 Car Park',\n",
       "       'Car Rental Village', \"McDonald's\",\n",
       "       'Sheffield University - Portobello Centre', 'Novotel',\n",
       "       'Sheffield Tap', 'Café Rouge', 'The Antiques Emporium',\n",
       "       'Kinder Lodge', 'Devonshire Arms', 'Waterstones',\n",
       "       'Manchester International Airport (MAN)', 'Web Summit HQ',\n",
       "       'Pavilions Shopping Centre', 'Waterside ', \"Eddie Rocket's\",\n",
       "       'Homebase', 'Power City', 'Rathdown Park', 'Caim Church',\n",
       "       'The Sisters Home', 'Gate 212', 'London City Airport (LCY)',\n",
       "       'Tenter Street Apartment ', 'Grange Tower Bridge Hotel',\n",
       "       'Gate 303', 'Frankfurt Airport (FRA)',\n",
       "       'Lufthansa Business Lounge Z', 'Gate Z66',\n",
       "       'Modern Universe Business Plaza', '凯德龙之梦 | Cloud Nine Mall',\n",
       "       'Dentistry.ie', \"O'Briens Sandwhich Bar\", 'Tesco Extra',\n",
       "       'The Blanchardstown Centre', 'Starbucks Stillorgan',\n",
       "       'Leopardstown Racecourse Pavilion', 'Leopardstown Racecourse',\n",
       "       'Donaghmede Shopping Centre', \"St. Brigid's Church\",\n",
       "       'Yamamori Izakaya Bar', 'The Henry Grattan',\n",
       "       'Jervis Shopping Centre', 'Arnotts Department Store', 'B&Q',\n",
       "       'Connolly Train Station', 'McDonalds', 'Omni Park Shopping Centre',\n",
       "       'Dunnes Cornelscourt', 'Siam Thai, Dundrum Town Centre',\n",
       "       'DCU Restaurant', 'Invent Cafe', 'Hotel Killarney', 'Ross Castle',\n",
       "       'Tea & Tales', 'DAA Executive Lounge', 'Gate 110',\n",
       "       'Stockholm Arlanda (ARN) International Airport',\n",
       "       'SAS Gold Lounge Arlanda', 'Stockholm-Arlanda Airport Gate 10A',\n",
       "       'Oslo - Gardermoen Norway International Airport',\n",
       "       'Clarion Hotel & Congress Oslo Airport', 'SAS Domestic Lounge OSL',\n",
       "       'Tromsø Lufthavn, Langnes (TOS)', 'Smarthotel', 'Rå Sushi Tromsø',\n",
       "       'Realfagbygget', 'Forskningsparken i Tromsø',\n",
       "       'SAS Businesslounge Tromsø Lufthavn',\n",
       "       'Oslo Lufthavn Gardermoen, Gate 53', 'DCU Sports Complex',\n",
       "       'The Black Sheep', 'Park Inn Radisson Hotel, Gardermoen',\n",
       "       'Oslo Lufthavn (OSL)', 'Clarion Hotel The Edge',\n",
       "       'Fjellheisen Cable Car Tromsø', 'Radisson Blu Hotel, Tromsoe',\n",
       "       'MH-kafeen UIT', 'Gate 102', 'DCU Staff CarPark (Albert College)',\n",
       "       'Science Gallery Trinity College Dublin',\n",
       "       'Captain Americas Cookhouse & Bar', 'Grafton Street',\n",
       "       'SuperValu, Killester', 'Ballsbridge Hotel',\n",
       "       'Radisson Blu Royal Hotel, Dublin', 'Pho Ta',\n",
       "       'Stillorgan, Co. Dublin',\n",
       "       'Mc Donalds Liffey Valley Retail Park :)', \"Lena's Tea Room\",\n",
       "       'Yeats Country Hotel Spa & Leisure Club',\n",
       "       'Austies Bar and Restaurant', 'Quayside Shopping Centre',\n",
       "       'Shells Sea Side Bakery Cafe', 'Sligo Retail Park',\n",
       "       'The Golden Wok Chinese, Thai and Vietnamese Takeaway',\n",
       "       'Liffey Valley Shopping Centre', 'Boots Liffey Valley',\n",
       "       'Prezzo, Liffey Valley Center', 'Mc Donalds - Donaghmede',\n",
       "       'Guinness Enterprise Centre,', 'Eddie Rockets Clare Hall', 'Avoca',\n",
       "       'DCU Engineering Building', 'Leman Solicitors', \"Angelina's\",\n",
       "       'DCU School of Computing', 'Dublin Airport',\n",
       "       \"Ann's Bakery and Restaurant\",\n",
       "       'The Morrison, a DoubleTree by Hilton Hotel',\n",
       "       \"Crabby Jo's Restaurant\", \"Grace O'Malley Drive\", 'Steven An',\n",
       "       'Permanent TSB', 'Howth', 'Airside Retail Park',\n",
       "       'Airside retail park', 'Arisu Korean Restrant',\n",
       "       'Smyths Toys Ireland', 'Fitzsimons Bar',\n",
       "       'Clayton Hotel Ballsbridge', 'Pavlova Passion Bakery',\n",
       "       'Marie Louise Tea Rooms', 'Howth Harbour', 'Port of Howth',\n",
       "       \"Woodie's DIY\",\n",
       "       \"Embassy of  The People's Republic of China Visa & Consular Office\",\n",
       "       'Collins Park', 'Sandymount Hotel', \"St Patrick's College, Dublin\",\n",
       "       'Greendale Shopping Centre', \"O'Connors Cafe Bar & Restaurant\",\n",
       "       'Limerick City', 'Limerick Colbert railway station',\n",
       "       'Thai Massage Rooms',\n",
       "       'Madam Mok Asian Fusion Restaurant & Take Away',\n",
       "       'Wanda Realm Wuhan', 'Wuhan University', 'Hanjie Steet',\n",
       "       'East China Normal University',\n",
       "       'Shanghai Pudong International airport', 'Regency Hotel',\n",
       "       'Dentist Kilbarrack', 'Starbucks Rathmines', 'Jurys Inn',\n",
       "       'Powerscourt Townhouse Centre', 'SOLE Seafood & Grill',\n",
       "       'Georges Street Arcade'], dtype=object)"
      ]
     },
     "metadata": {},
     "execution_count": 6
    }
   ],
   "source": [
    "semanticNames = df['semantic_name'].unique()\n",
    "semanticNames"
   ]
  },
  {
   "cell_type": "code",
   "execution_count": 8,
   "metadata": {},
   "outputs": [
    {
     "output_type": "stream",
     "name": "stdout",
     "text": [
      "False\nFalse\n"
     ]
    }
   ],
   "source": [
    "nullInTimezone = df['timezone'].str.contains('NULL').any()\n",
    "nullInLocalTime = df['local_time'].str.contains('NULL').any()\n",
    "print(nullInTimezone)\n",
    "print(nullInLocalTime)"
   ]
  },
  {
   "cell_type": "code",
   "execution_count": null,
   "metadata": {},
   "outputs": [],
   "source": []
  }
 ]
}