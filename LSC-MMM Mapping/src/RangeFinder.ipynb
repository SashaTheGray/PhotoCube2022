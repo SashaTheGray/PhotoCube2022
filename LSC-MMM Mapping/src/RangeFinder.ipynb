{
 "metadata": {
  "language_info": {
   "codemirror_mode": {
    "name": "ipython",
    "version": 3
   },
   "file_extension": ".py",
   "mimetype": "text/x-python",
   "name": "python",
   "nbconvert_exporter": "python",
   "pygments_lexer": "ipython3",
   "version": "3.8.3-final"
  },
  "orig_nbformat": 2,
  "kernelspec": {
   "name": "python3",
   "display_name": "Python 3",
   "language": "python"
  }
 },
 "nbformat": 4,
 "nbformat_minor": 2,
 "cells": [
  {
   "cell_type": "code",
   "execution_count": 2,
   "metadata": {},
   "outputs": [],
   "source": [
    "import sys\n",
    "import csv\n",
    "import pandas as pd\n",
    "import seaborn as sns\n",
    "import matplotlib.pylab as plt"
   ]
  },
  {
   "cell_type": "code",
   "execution_count": 14,
   "metadata": {},
   "outputs": [
    {
     "output_type": "execute_result",
     "data": {
      "text/plain": [
       "       minute_id              utc_time        local_time       timezone  \\\n",
       "0  20150223_0000  UTC_2015-02-23_00:00  2015-02-23_00:00  Europe/Dublin   \n",
       "1  20150223_0001  UTC_2015-02-23_00:01  2015-02-23_00:01  Europe/Dublin   \n",
       "2  20150223_0002  UTC_2015-02-23_00:02  2015-02-23_00:02  Europe/Dublin   \n",
       "\n",
       "       lat      lon semantic_name  elevation  speed  heart  calories  \\\n",
       "0  53.3892 -6.15827          Home        NaN    NaN    NaN    1.2062   \n",
       "1  53.3892 -6.15827          Home        NaN    NaN    NaN    1.2062   \n",
       "2  53.3892 -6.15827          Home        NaN    NaN    NaN    1.2062   \n",
       "\n",
       "  activity_type  steps  \n",
       "0           NaN    NaN  \n",
       "1           NaN    NaN  \n",
       "2           NaN    NaN  "
      ],
      "text/html": "<div>\n<style scoped>\n    .dataframe tbody tr th:only-of-type {\n        vertical-align: middle;\n    }\n\n    .dataframe tbody tr th {\n        vertical-align: top;\n    }\n\n    .dataframe thead th {\n        text-align: right;\n    }\n</style>\n<table border=\"1\" class=\"dataframe\">\n  <thead>\n    <tr style=\"text-align: right;\">\n      <th></th>\n      <th>minute_id</th>\n      <th>utc_time</th>\n      <th>local_time</th>\n      <th>timezone</th>\n      <th>lat</th>\n      <th>lon</th>\n      <th>semantic_name</th>\n      <th>elevation</th>\n      <th>speed</th>\n      <th>heart</th>\n      <th>calories</th>\n      <th>activity_type</th>\n      <th>steps</th>\n    </tr>\n  </thead>\n  <tbody>\n    <tr>\n      <th>0</th>\n      <td>20150223_0000</td>\n      <td>UTC_2015-02-23_00:00</td>\n      <td>2015-02-23_00:00</td>\n      <td>Europe/Dublin</td>\n      <td>53.3892</td>\n      <td>-6.15827</td>\n      <td>Home</td>\n      <td>NaN</td>\n      <td>NaN</td>\n      <td>NaN</td>\n      <td>1.2062</td>\n      <td>NaN</td>\n      <td>NaN</td>\n    </tr>\n    <tr>\n      <th>1</th>\n      <td>20150223_0001</td>\n      <td>UTC_2015-02-23_00:01</td>\n      <td>2015-02-23_00:01</td>\n      <td>Europe/Dublin</td>\n      <td>53.3892</td>\n      <td>-6.15827</td>\n      <td>Home</td>\n      <td>NaN</td>\n      <td>NaN</td>\n      <td>NaN</td>\n      <td>1.2062</td>\n      <td>NaN</td>\n      <td>NaN</td>\n    </tr>\n    <tr>\n      <th>2</th>\n      <td>20150223_0002</td>\n      <td>UTC_2015-02-23_00:02</td>\n      <td>2015-02-23_00:02</td>\n      <td>Europe/Dublin</td>\n      <td>53.3892</td>\n      <td>-6.15827</td>\n      <td>Home</td>\n      <td>NaN</td>\n      <td>NaN</td>\n      <td>NaN</td>\n      <td>1.2062</td>\n      <td>NaN</td>\n      <td>NaN</td>\n    </tr>\n  </tbody>\n</table>\n</div>"
     },
     "metadata": {},
     "execution_count": 14
    }
   ],
   "source": [
    "# Get file and read into dataframe\n",
    "filename = \"C:/lsc2020/lsc2020-metadata/lsc2020-metadata.csv\"\n",
    "df = pd.read_csv(filename)\n",
    "df.head(3)\n"
   ]
  },
  {
   "cell_type": "code",
   "execution_count": 15,
   "metadata": {},
   "outputs": [
    {
     "output_type": "execute_result",
     "data": {
      "text/plain": [
       "minute_id         object\n",
       "utc_time          object\n",
       "local_time        object\n",
       "timezone          object\n",
       "lat              float64\n",
       "lon              float64\n",
       "semantic_name     object\n",
       "elevation        float64\n",
       "speed            float64\n",
       "heart            float64\n",
       "calories         float64\n",
       "activity_type     object\n",
       "steps            float64\n",
       "dtype: object"
      ]
     },
     "metadata": {},
     "execution_count": 15
    }
   ],
   "source": [
    "df.dtypes"
   ]
  }
 ]
}